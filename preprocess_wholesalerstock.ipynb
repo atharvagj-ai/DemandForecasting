{
 "metadata": {
  "language_info": {
   "codemirror_mode": {
    "name": "ipython",
    "version": 3
   },
   "file_extension": ".py",
   "mimetype": "text/x-python",
   "name": "python",
   "nbconvert_exporter": "python",
   "pygments_lexer": "ipython3",
   "version": "3.8.6-final"
  },
  "orig_nbformat": 2,
  "kernelspec": {
   "name": "python3",
   "display_name": "Python 3.8.6 64-bit",
   "metadata": {
    "interpreter": {
     "hash": "8f30e6b2f152357cd8846dbd9e8875421ca602a24f62cd8eb49bc112c3f78de9"
    }
   }
  }
 },
 "nbformat": 4,
 "nbformat_minor": 2,
 "cells": [
  {
   "cell_type": "code",
   "execution_count": 2,
   "metadata": {},
   "outputs": [],
   "source": [
    "import numpy as np\n",
    "import pandas as pd\n",
    "import matplotlib.pyplot as plt\n",
    "import seaborn as sns"
   ]
  },
  {
   "cell_type": "code",
   "execution_count": 4,
   "metadata": {},
   "outputs": [],
   "source": [
    "df_wholesaler_stock = pd.read_csv(\"../Wholesaler_Stock.csv\")"
   ]
  },
  {
   "cell_type": "code",
   "execution_count": 7,
   "metadata": {},
   "outputs": [
    {
     "output_type": "execute_result",
     "data": {
      "text/plain": [
       "(141251, 15)"
      ]
     },
     "metadata": {},
     "execution_count": 7
    }
   ],
   "source": [
    "df_wholesaler_stock.shape"
   ]
  },
  {
   "cell_type": "code",
   "execution_count": 8,
   "metadata": {},
   "outputs": [
    {
     "output_type": "execute_result",
     "data": {
      "text/plain": [
       "     sr_no  active           created_at created_by          modified_at  \\\n",
       "0  9562705    True  2020-12-31 00:00:00      admin  2020-12-31 00:00:00   \n",
       "1  9562977    True  2020-12-31 00:00:00      admin  2020-12-31 00:00:00   \n",
       "2  9563485    True  2020-12-31 00:00:00      admin  2020-12-31 00:00:00   \n",
       "3  9563693    True  2020-12-31 00:00:00      admin  2020-12-31 00:00:00   \n",
       "4  9563972    True  2020-12-31 00:00:00      admin  2020-12-31 00:00:00   \n",
       "\n",
       "  modified_by company_name  dealer_id dealer_type  district_name  \\\n",
       "0       admin       MOSAIC     250304  WHOLESALER      Anantapur   \n",
       "1       admin       MOSAIC     651150  WHOLESALER  East Godavari   \n",
       "2       admin       MOSAIC     452785  WHOLESALER         Guntur   \n",
       "3       admin       MOSAIC     250462  WHOLESALER         Guntur   \n",
       "4       admin       MOSAIC     250485  WHOLESALER         Guntur   \n",
       "\n",
       "   opening_balance  place_name plant_name product_name      state_name  \n",
       "0           111.00         NaN     MOSAIC          MOP  Andhra Pradesh  \n",
       "1            35.50         NaN     MOSAIC          MOP  Andhra Pradesh  \n",
       "2            43.00         NaN     MOSAIC          MOP  Andhra Pradesh  \n",
       "3            40.95         NaN     MOSAIC          MOP  Andhra Pradesh  \n",
       "4            37.00         NaN     MOSAIC          MOP  Andhra Pradesh  "
      ],
      "text/html": "<div>\n<style scoped>\n    .dataframe tbody tr th:only-of-type {\n        vertical-align: middle;\n    }\n\n    .dataframe tbody tr th {\n        vertical-align: top;\n    }\n\n    .dataframe thead th {\n        text-align: right;\n    }\n</style>\n<table border=\"1\" class=\"dataframe\">\n  <thead>\n    <tr style=\"text-align: right;\">\n      <th></th>\n      <th>sr_no</th>\n      <th>active</th>\n      <th>created_at</th>\n      <th>created_by</th>\n      <th>modified_at</th>\n      <th>modified_by</th>\n      <th>company_name</th>\n      <th>dealer_id</th>\n      <th>dealer_type</th>\n      <th>district_name</th>\n      <th>opening_balance</th>\n      <th>place_name</th>\n      <th>plant_name</th>\n      <th>product_name</th>\n      <th>state_name</th>\n    </tr>\n  </thead>\n  <tbody>\n    <tr>\n      <th>0</th>\n      <td>9562705</td>\n      <td>True</td>\n      <td>2020-12-31 00:00:00</td>\n      <td>admin</td>\n      <td>2020-12-31 00:00:00</td>\n      <td>admin</td>\n      <td>MOSAIC</td>\n      <td>250304</td>\n      <td>WHOLESALER</td>\n      <td>Anantapur</td>\n      <td>111.00</td>\n      <td>NaN</td>\n      <td>MOSAIC</td>\n      <td>MOP</td>\n      <td>Andhra Pradesh</td>\n    </tr>\n    <tr>\n      <th>1</th>\n      <td>9562977</td>\n      <td>True</td>\n      <td>2020-12-31 00:00:00</td>\n      <td>admin</td>\n      <td>2020-12-31 00:00:00</td>\n      <td>admin</td>\n      <td>MOSAIC</td>\n      <td>651150</td>\n      <td>WHOLESALER</td>\n      <td>East Godavari</td>\n      <td>35.50</td>\n      <td>NaN</td>\n      <td>MOSAIC</td>\n      <td>MOP</td>\n      <td>Andhra Pradesh</td>\n    </tr>\n    <tr>\n      <th>2</th>\n      <td>9563485</td>\n      <td>True</td>\n      <td>2020-12-31 00:00:00</td>\n      <td>admin</td>\n      <td>2020-12-31 00:00:00</td>\n      <td>admin</td>\n      <td>MOSAIC</td>\n      <td>452785</td>\n      <td>WHOLESALER</td>\n      <td>Guntur</td>\n      <td>43.00</td>\n      <td>NaN</td>\n      <td>MOSAIC</td>\n      <td>MOP</td>\n      <td>Andhra Pradesh</td>\n    </tr>\n    <tr>\n      <th>3</th>\n      <td>9563693</td>\n      <td>True</td>\n      <td>2020-12-31 00:00:00</td>\n      <td>admin</td>\n      <td>2020-12-31 00:00:00</td>\n      <td>admin</td>\n      <td>MOSAIC</td>\n      <td>250462</td>\n      <td>WHOLESALER</td>\n      <td>Guntur</td>\n      <td>40.95</td>\n      <td>NaN</td>\n      <td>MOSAIC</td>\n      <td>MOP</td>\n      <td>Andhra Pradesh</td>\n    </tr>\n    <tr>\n      <th>4</th>\n      <td>9563972</td>\n      <td>True</td>\n      <td>2020-12-31 00:00:00</td>\n      <td>admin</td>\n      <td>2020-12-31 00:00:00</td>\n      <td>admin</td>\n      <td>MOSAIC</td>\n      <td>250485</td>\n      <td>WHOLESALER</td>\n      <td>Guntur</td>\n      <td>37.00</td>\n      <td>NaN</td>\n      <td>MOSAIC</td>\n      <td>MOP</td>\n      <td>Andhra Pradesh</td>\n    </tr>\n  </tbody>\n</table>\n</div>"
     },
     "metadata": {},
     "execution_count": 8
    }
   ],
   "source": [
    "df_wholesaler_stock.head()"
   ]
  },
  {
   "cell_type": "code",
   "execution_count": 15,
   "metadata": {},
   "outputs": [
    {
     "output_type": "execute_result",
     "data": {
      "text/plain": [
       "array([nan])"
      ]
     },
     "metadata": {},
     "execution_count": 15
    }
   ],
   "source": [
    "df_wholesaler_stock.place_name.unique()"
   ]
  },
  {
   "cell_type": "code",
   "execution_count": 16,
   "metadata": {},
   "outputs": [],
   "source": [
    "df_wholesaler_stock_copy = df_wholesaler_stock.drop(columns=[\"active\",\"created_at\",\t\"created_by\", \"modified_at\", \"modified_by\",\t\"company_name\",\"dealer_type\", \"place_name\", \"plant_name\" ])"
   ]
  },
  {
   "cell_type": "code",
   "execution_count": 17,
   "metadata": {},
   "outputs": [
    {
     "output_type": "execute_result",
     "data": {
      "text/plain": [
       "     sr_no  dealer_id  district_name  opening_balance product_name  \\\n",
       "0  9562705     250304      Anantapur           111.00          MOP   \n",
       "1  9562977     651150  East Godavari            35.50          MOP   \n",
       "2  9563485     452785         Guntur            43.00          MOP   \n",
       "3  9563693     250462         Guntur            40.95          MOP   \n",
       "4  9563972     250485         Guntur            37.00          MOP   \n",
       "\n",
       "       state_name  \n",
       "0  Andhra Pradesh  \n",
       "1  Andhra Pradesh  \n",
       "2  Andhra Pradesh  \n",
       "3  Andhra Pradesh  \n",
       "4  Andhra Pradesh  "
      ],
      "text/html": "<div>\n<style scoped>\n    .dataframe tbody tr th:only-of-type {\n        vertical-align: middle;\n    }\n\n    .dataframe tbody tr th {\n        vertical-align: top;\n    }\n\n    .dataframe thead th {\n        text-align: right;\n    }\n</style>\n<table border=\"1\" class=\"dataframe\">\n  <thead>\n    <tr style=\"text-align: right;\">\n      <th></th>\n      <th>sr_no</th>\n      <th>dealer_id</th>\n      <th>district_name</th>\n      <th>opening_balance</th>\n      <th>product_name</th>\n      <th>state_name</th>\n    </tr>\n  </thead>\n  <tbody>\n    <tr>\n      <th>0</th>\n      <td>9562705</td>\n      <td>250304</td>\n      <td>Anantapur</td>\n      <td>111.00</td>\n      <td>MOP</td>\n      <td>Andhra Pradesh</td>\n    </tr>\n    <tr>\n      <th>1</th>\n      <td>9562977</td>\n      <td>651150</td>\n      <td>East Godavari</td>\n      <td>35.50</td>\n      <td>MOP</td>\n      <td>Andhra Pradesh</td>\n    </tr>\n    <tr>\n      <th>2</th>\n      <td>9563485</td>\n      <td>452785</td>\n      <td>Guntur</td>\n      <td>43.00</td>\n      <td>MOP</td>\n      <td>Andhra Pradesh</td>\n    </tr>\n    <tr>\n      <th>3</th>\n      <td>9563693</td>\n      <td>250462</td>\n      <td>Guntur</td>\n      <td>40.95</td>\n      <td>MOP</td>\n      <td>Andhra Pradesh</td>\n    </tr>\n    <tr>\n      <th>4</th>\n      <td>9563972</td>\n      <td>250485</td>\n      <td>Guntur</td>\n      <td>37.00</td>\n      <td>MOP</td>\n      <td>Andhra Pradesh</td>\n    </tr>\n  </tbody>\n</table>\n</div>"
     },
     "metadata": {},
     "execution_count": 17
    }
   ],
   "source": [
    "df_wholesaler_stock_copy.head()"
   ]
  },
  {
   "cell_type": "code",
   "execution_count": 19,
   "metadata": {},
   "outputs": [
    {
     "output_type": "execute_result",
     "data": {
      "text/plain": [
       "sr_no              0\n",
       "dealer_id          0\n",
       "district_name      0\n",
       "opening_balance    0\n",
       "product_name       0\n",
       "state_name         0\n",
       "dtype: int64"
      ]
     },
     "metadata": {},
     "execution_count": 19
    }
   ],
   "source": [
    "df_wholesaler_stock_copy.isna().sum()"
   ]
  },
  {
   "cell_type": "code",
   "execution_count": 21,
   "metadata": {},
   "outputs": [
    {
     "output_type": "execute_result",
     "data": {
      "text/plain": [
       "sr_no                int64\n",
       "dealer_id            int64\n",
       "district_name       object\n",
       "opening_balance    float64\n",
       "product_name        object\n",
       "state_name          object\n",
       "dtype: object"
      ]
     },
     "metadata": {},
     "execution_count": 21
    }
   ],
   "source": [
    "df_wholesaler_stock_copy.dtypes"
   ]
  },
  {
   "cell_type": "code",
   "execution_count": 32,
   "metadata": {},
   "outputs": [
    {
     "output_type": "execute_result",
     "data": {
      "text/plain": [
       "array(['WHOLESALER'], dtype=object)"
      ]
     },
     "metadata": {},
     "execution_count": 32
    }
   ],
   "source": [
    "df_wholesaler_stock.dealer_type.unique()"
   ]
  },
  {
   "cell_type": "code",
   "execution_count": 28,
   "metadata": {},
   "outputs": [],
   "source": [
    "df_wholesaler_stock_copy.product_name = df_wholesaler_stock_copy.product_name.astype('category')"
   ]
  },
  {
   "cell_type": "code",
   "execution_count": 29,
   "metadata": {},
   "outputs": [
    {
     "output_type": "execute_result",
     "data": {
      "text/plain": [
       "sr_no                 int64\n",
       "dealer_id             int64\n",
       "district_name        object\n",
       "opening_balance     float64\n",
       "product_name       category\n",
       "state_name           object\n",
       "dtype: object"
      ]
     },
     "metadata": {},
     "execution_count": 29
    }
   ],
   "source": [
    "df_wholesaler_stock_copy.dtypes"
   ]
  },
  {
   "cell_type": "code",
   "execution_count": 30,
   "metadata": {},
   "outputs": [
    {
     "output_type": "execute_result",
     "data": {
      "text/plain": [
       "     sr_no  dealer_id  district_name  opening_balance product_name  \\\n",
       "0  9562705     250304      Anantapur           111.00          MOP   \n",
       "1  9562977     651150  East Godavari            35.50          MOP   \n",
       "2  9563485     452785         Guntur            43.00          MOP   \n",
       "3  9563693     250462         Guntur            40.95          MOP   \n",
       "4  9563972     250485         Guntur            37.00          MOP   \n",
       "\n",
       "       state_name  \n",
       "0  Andhra Pradesh  \n",
       "1  Andhra Pradesh  \n",
       "2  Andhra Pradesh  \n",
       "3  Andhra Pradesh  \n",
       "4  Andhra Pradesh  "
      ],
      "text/html": "<div>\n<style scoped>\n    .dataframe tbody tr th:only-of-type {\n        vertical-align: middle;\n    }\n\n    .dataframe tbody tr th {\n        vertical-align: top;\n    }\n\n    .dataframe thead th {\n        text-align: right;\n    }\n</style>\n<table border=\"1\" class=\"dataframe\">\n  <thead>\n    <tr style=\"text-align: right;\">\n      <th></th>\n      <th>sr_no</th>\n      <th>dealer_id</th>\n      <th>district_name</th>\n      <th>opening_balance</th>\n      <th>product_name</th>\n      <th>state_name</th>\n    </tr>\n  </thead>\n  <tbody>\n    <tr>\n      <th>0</th>\n      <td>9562705</td>\n      <td>250304</td>\n      <td>Anantapur</td>\n      <td>111.00</td>\n      <td>MOP</td>\n      <td>Andhra Pradesh</td>\n    </tr>\n    <tr>\n      <th>1</th>\n      <td>9562977</td>\n      <td>651150</td>\n      <td>East Godavari</td>\n      <td>35.50</td>\n      <td>MOP</td>\n      <td>Andhra Pradesh</td>\n    </tr>\n    <tr>\n      <th>2</th>\n      <td>9563485</td>\n      <td>452785</td>\n      <td>Guntur</td>\n      <td>43.00</td>\n      <td>MOP</td>\n      <td>Andhra Pradesh</td>\n    </tr>\n    <tr>\n      <th>3</th>\n      <td>9563693</td>\n      <td>250462</td>\n      <td>Guntur</td>\n      <td>40.95</td>\n      <td>MOP</td>\n      <td>Andhra Pradesh</td>\n    </tr>\n    <tr>\n      <th>4</th>\n      <td>9563972</td>\n      <td>250485</td>\n      <td>Guntur</td>\n      <td>37.00</td>\n      <td>MOP</td>\n      <td>Andhra Pradesh</td>\n    </tr>\n  </tbody>\n</table>\n</div>"
     },
     "metadata": {},
     "execution_count": 30
    }
   ],
   "source": [
    "df_wholesaler_stock_copy.head()"
   ]
  },
  {
   "cell_type": "code",
   "execution_count": 31,
   "metadata": {},
   "outputs": [
    {
     "output_type": "execute_result",
     "data": {
      "text/plain": [
       "     sr_no  active           created_at created_by          modified_at  \\\n",
       "0  9562705    True  2020-12-31 00:00:00      admin  2020-12-31 00:00:00   \n",
       "1  9562977    True  2020-12-31 00:00:00      admin  2020-12-31 00:00:00   \n",
       "2  9563485    True  2020-12-31 00:00:00      admin  2020-12-31 00:00:00   \n",
       "3  9563693    True  2020-12-31 00:00:00      admin  2020-12-31 00:00:00   \n",
       "4  9563972    True  2020-12-31 00:00:00      admin  2020-12-31 00:00:00   \n",
       "\n",
       "  modified_by company_name  dealer_id dealer_type  district_name  \\\n",
       "0       admin       MOSAIC     250304  WHOLESALER      Anantapur   \n",
       "1       admin       MOSAIC     651150  WHOLESALER  East Godavari   \n",
       "2       admin       MOSAIC     452785  WHOLESALER         Guntur   \n",
       "3       admin       MOSAIC     250462  WHOLESALER         Guntur   \n",
       "4       admin       MOSAIC     250485  WHOLESALER         Guntur   \n",
       "\n",
       "   opening_balance  place_name plant_name product_name      state_name  \n",
       "0           111.00         NaN     MOSAIC          MOP  Andhra Pradesh  \n",
       "1            35.50         NaN     MOSAIC          MOP  Andhra Pradesh  \n",
       "2            43.00         NaN     MOSAIC          MOP  Andhra Pradesh  \n",
       "3            40.95         NaN     MOSAIC          MOP  Andhra Pradesh  \n",
       "4            37.00         NaN     MOSAIC          MOP  Andhra Pradesh  "
      ],
      "text/html": "<div>\n<style scoped>\n    .dataframe tbody tr th:only-of-type {\n        vertical-align: middle;\n    }\n\n    .dataframe tbody tr th {\n        vertical-align: top;\n    }\n\n    .dataframe thead th {\n        text-align: right;\n    }\n</style>\n<table border=\"1\" class=\"dataframe\">\n  <thead>\n    <tr style=\"text-align: right;\">\n      <th></th>\n      <th>sr_no</th>\n      <th>active</th>\n      <th>created_at</th>\n      <th>created_by</th>\n      <th>modified_at</th>\n      <th>modified_by</th>\n      <th>company_name</th>\n      <th>dealer_id</th>\n      <th>dealer_type</th>\n      <th>district_name</th>\n      <th>opening_balance</th>\n      <th>place_name</th>\n      <th>plant_name</th>\n      <th>product_name</th>\n      <th>state_name</th>\n    </tr>\n  </thead>\n  <tbody>\n    <tr>\n      <th>0</th>\n      <td>9562705</td>\n      <td>True</td>\n      <td>2020-12-31 00:00:00</td>\n      <td>admin</td>\n      <td>2020-12-31 00:00:00</td>\n      <td>admin</td>\n      <td>MOSAIC</td>\n      <td>250304</td>\n      <td>WHOLESALER</td>\n      <td>Anantapur</td>\n      <td>111.00</td>\n      <td>NaN</td>\n      <td>MOSAIC</td>\n      <td>MOP</td>\n      <td>Andhra Pradesh</td>\n    </tr>\n    <tr>\n      <th>1</th>\n      <td>9562977</td>\n      <td>True</td>\n      <td>2020-12-31 00:00:00</td>\n      <td>admin</td>\n      <td>2020-12-31 00:00:00</td>\n      <td>admin</td>\n      <td>MOSAIC</td>\n      <td>651150</td>\n      <td>WHOLESALER</td>\n      <td>East Godavari</td>\n      <td>35.50</td>\n      <td>NaN</td>\n      <td>MOSAIC</td>\n      <td>MOP</td>\n      <td>Andhra Pradesh</td>\n    </tr>\n    <tr>\n      <th>2</th>\n      <td>9563485</td>\n      <td>True</td>\n      <td>2020-12-31 00:00:00</td>\n      <td>admin</td>\n      <td>2020-12-31 00:00:00</td>\n      <td>admin</td>\n      <td>MOSAIC</td>\n      <td>452785</td>\n      <td>WHOLESALER</td>\n      <td>Guntur</td>\n      <td>43.00</td>\n      <td>NaN</td>\n      <td>MOSAIC</td>\n      <td>MOP</td>\n      <td>Andhra Pradesh</td>\n    </tr>\n    <tr>\n      <th>3</th>\n      <td>9563693</td>\n      <td>True</td>\n      <td>2020-12-31 00:00:00</td>\n      <td>admin</td>\n      <td>2020-12-31 00:00:00</td>\n      <td>admin</td>\n      <td>MOSAIC</td>\n      <td>250462</td>\n      <td>WHOLESALER</td>\n      <td>Guntur</td>\n      <td>40.95</td>\n      <td>NaN</td>\n      <td>MOSAIC</td>\n      <td>MOP</td>\n      <td>Andhra Pradesh</td>\n    </tr>\n    <tr>\n      <th>4</th>\n      <td>9563972</td>\n      <td>True</td>\n      <td>2020-12-31 00:00:00</td>\n      <td>admin</td>\n      <td>2020-12-31 00:00:00</td>\n      <td>admin</td>\n      <td>MOSAIC</td>\n      <td>250485</td>\n      <td>WHOLESALER</td>\n      <td>Guntur</td>\n      <td>37.00</td>\n      <td>NaN</td>\n      <td>MOSAIC</td>\n      <td>MOP</td>\n      <td>Andhra Pradesh</td>\n    </tr>\n  </tbody>\n</table>\n</div>"
     },
     "metadata": {},
     "execution_count": 31
    }
   ],
   "source": [
    "df_wholesaler_stock.head()"
   ]
  },
  {
   "cell_type": "code",
   "execution_count": null,
   "metadata": {},
   "outputs": [],
   "source": []
  }
 ]
}