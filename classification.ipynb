{
 "metadata": {
  "language_info": {
   "codemirror_mode": {
    "name": "ipython",
    "version": 3
   },
   "file_extension": ".py",
   "mimetype": "text/x-python",
   "name": "python",
   "nbconvert_exporter": "python",
   "pygments_lexer": "ipython3",
   "version": "3.8.3-final"
  },
  "orig_nbformat": 2,
  "kernelspec": {
   "name": "python3",
   "display_name": "Python 3",
   "language": "python"
  }
 },
 "nbformat": 4,
 "nbformat_minor": 2,
 "cells": [
  {
   "cell_type": "code",
   "execution_count": 30,
   "metadata": {},
   "outputs": [],
   "source": [
    "import numpy as np\n",
    "import pandas as pd\n",
    "import matplotlib.pyplot as plt\n",
    "import seaborn as sns\n",
    "from sklearn.preprocessing import StandardScaler\n",
    "from sklearn.model_selection import train_test_split\n",
    "import pickle\n",
    "from sklearn.metrics import mean_squared_error\n",
    "from math import sqrt"
   ]
  },
  {
   "cell_type": "code",
   "execution_count": 31,
   "metadata": {},
   "outputs": [],
   "source": [
    "df_retailer_liq = pd.read_csv(\"../data/Retailer_Liquidation.csv\")"
   ]
  },
  {
   "cell_type": "code",
   "execution_count": 32,
   "metadata": {},
   "outputs": [
    {
     "output_type": "execute_result",
     "data": {
      "text/plain": [
       "(236000, 12)"
      ]
     },
     "metadata": {},
     "execution_count": 32
    }
   ],
   "source": [
    "df_retailer_liq.shape"
   ]
  },
  {
   "cell_type": "code",
   "execution_count": 33,
   "metadata": {},
   "outputs": [
    {
     "output_type": "execute_result",
     "data": {
      "text/plain": [
       "id                 231232\n",
       "retailer_id             0\n",
       "product_id              0\n",
       "received_date           0\n",
       "sold_date           10011\n",
       "day_difference          0\n",
       "sold_stock          10011\n",
       "pending_stock       10011\n",
       "available_stock         0\n",
       "type                    0\n",
       "end_date           225989\n",
       "state                   0\n",
       "dtype: int64"
      ]
     },
     "metadata": {},
     "execution_count": 33
    }
   ],
   "source": [
    "df_retailer_liq.isna().sum()"
   ]
  },
  {
   "cell_type": "code",
   "execution_count": 34,
   "metadata": {},
   "outputs": [],
   "source": [
    "df = df_retailer_liq.drop(columns=[\"id\",\"end_date\",\"pending_stock\",\"sold_date\"])"
   ]
  },
  {
   "cell_type": "code",
   "execution_count": 35,
   "metadata": {},
   "outputs": [
    {
     "output_type": "execute_result",
     "data": {
      "text/plain": [
       "(236000, 8)"
      ]
     },
     "metadata": {},
     "execution_count": 35
    }
   ],
   "source": [
    "df.shape"
   ]
  },
  {
   "cell_type": "code",
   "execution_count": 36,
   "metadata": {},
   "outputs": [
    {
     "output_type": "execute_result",
     "data": {
      "text/plain": [
       "retailer_id            0\n",
       "product_id             0\n",
       "received_date          0\n",
       "day_difference         0\n",
       "sold_stock         10011\n",
       "available_stock        0\n",
       "type                   0\n",
       "state                  0\n",
       "dtype: int64"
      ]
     },
     "metadata": {},
     "execution_count": 36
    }
   ],
   "source": [
    "df.isna().sum()"
   ]
  },
  {
   "cell_type": "code",
   "execution_count": 37,
   "metadata": {},
   "outputs": [],
   "source": [
    "df_stock = df.loc[ df['sold_stock'].isnull()]"
   ]
  },
  {
   "cell_type": "code",
   "execution_count": 38,
   "metadata": {},
   "outputs": [
    {
     "output_type": "execute_result",
     "data": {
      "text/plain": [
       "(10011, 8)"
      ]
     },
     "metadata": {},
     "execution_count": 38
    }
   ],
   "source": [
    "df_stock.shape"
   ]
  },
  {
   "cell_type": "code",
   "execution_count": 43,
   "metadata": {},
   "outputs": [
    {
     "output_type": "execute_result",
     "data": {
      "text/plain": [
       "(225989, 8)"
      ]
     },
     "metadata": {},
     "execution_count": 43
    }
   ],
   "source": [
    "df_sales = df.dropna()\n",
    "df_sales.shape"
   ]
  },
  {
   "cell_type": "code",
   "execution_count": 44,
   "metadata": {},
   "outputs": [
    {
     "output_type": "execute_result",
     "data": {
      "text/plain": [
       "   retailer_id  product_id received_date  day_difference  sold_stock  \\\n",
       "1       103271          71    2019-07-12             309        0.95   \n",
       "2       103271          71    2019-07-12             136        0.45   \n",
       "3       103271          71    2019-07-12             133        0.05   \n",
       "4       103271          71    2019-07-12             124        0.60   \n",
       "5       103271          71    2019-07-12             123        2.60   \n",
       "\n",
       "   available_stock   type      state  \n",
       "1            19.05  sales  Rajasthan  \n",
       "2            18.60  sales  Rajasthan  \n",
       "3            18.55  sales  Rajasthan  \n",
       "4            17.95  sales  Rajasthan  \n",
       "5            15.35  sales  Rajasthan  "
      ],
      "text/html": "<div>\n<style scoped>\n    .dataframe tbody tr th:only-of-type {\n        vertical-align: middle;\n    }\n\n    .dataframe tbody tr th {\n        vertical-align: top;\n    }\n\n    .dataframe thead th {\n        text-align: right;\n    }\n</style>\n<table border=\"1\" class=\"dataframe\">\n  <thead>\n    <tr style=\"text-align: right;\">\n      <th></th>\n      <th>retailer_id</th>\n      <th>product_id</th>\n      <th>received_date</th>\n      <th>day_difference</th>\n      <th>sold_stock</th>\n      <th>available_stock</th>\n      <th>type</th>\n      <th>state</th>\n    </tr>\n  </thead>\n  <tbody>\n    <tr>\n      <th>1</th>\n      <td>103271</td>\n      <td>71</td>\n      <td>2019-07-12</td>\n      <td>309</td>\n      <td>0.95</td>\n      <td>19.05</td>\n      <td>sales</td>\n      <td>Rajasthan</td>\n    </tr>\n    <tr>\n      <th>2</th>\n      <td>103271</td>\n      <td>71</td>\n      <td>2019-07-12</td>\n      <td>136</td>\n      <td>0.45</td>\n      <td>18.60</td>\n      <td>sales</td>\n      <td>Rajasthan</td>\n    </tr>\n    <tr>\n      <th>3</th>\n      <td>103271</td>\n      <td>71</td>\n      <td>2019-07-12</td>\n      <td>133</td>\n      <td>0.05</td>\n      <td>18.55</td>\n      <td>sales</td>\n      <td>Rajasthan</td>\n    </tr>\n    <tr>\n      <th>4</th>\n      <td>103271</td>\n      <td>71</td>\n      <td>2019-07-12</td>\n      <td>124</td>\n      <td>0.60</td>\n      <td>17.95</td>\n      <td>sales</td>\n      <td>Rajasthan</td>\n    </tr>\n    <tr>\n      <th>5</th>\n      <td>103271</td>\n      <td>71</td>\n      <td>2019-07-12</td>\n      <td>123</td>\n      <td>2.60</td>\n      <td>15.35</td>\n      <td>sales</td>\n      <td>Rajasthan</td>\n    </tr>\n  </tbody>\n</table>\n</div>"
     },
     "metadata": {},
     "execution_count": 44
    }
   ],
   "source": [
    "df_sales.head()"
   ]
  },
  {
   "cell_type": "code",
   "execution_count": 41,
   "metadata": {},
   "outputs": [
    {
     "output_type": "execute_result",
     "data": {
      "text/plain": [
       "    retailer_id  product_id received_date  day_difference  sold_stock  \\\n",
       "0        103271          71    2019-07-12             507         NaN   \n",
       "14       103279          71    2020-10-31              30         NaN   \n",
       "26       103305          71    2020-05-10             204         NaN   \n",
       "38       103311           8    2020-03-12             263         NaN   \n",
       "75       103311          71    2020-10-15              46         NaN   \n",
       "\n",
       "    available_stock   type      state  \n",
       "0               0.0  stock  Rajasthan  \n",
       "14              0.0  stock  Rajasthan  \n",
       "26              0.0  stock  Rajasthan  \n",
       "38              0.0  stock  Rajasthan  \n",
       "75              0.0  stock  Rajasthan  "
      ],
      "text/html": "<div>\n<style scoped>\n    .dataframe tbody tr th:only-of-type {\n        vertical-align: middle;\n    }\n\n    .dataframe tbody tr th {\n        vertical-align: top;\n    }\n\n    .dataframe thead th {\n        text-align: right;\n    }\n</style>\n<table border=\"1\" class=\"dataframe\">\n  <thead>\n    <tr style=\"text-align: right;\">\n      <th></th>\n      <th>retailer_id</th>\n      <th>product_id</th>\n      <th>received_date</th>\n      <th>day_difference</th>\n      <th>sold_stock</th>\n      <th>available_stock</th>\n      <th>type</th>\n      <th>state</th>\n    </tr>\n  </thead>\n  <tbody>\n    <tr>\n      <th>0</th>\n      <td>103271</td>\n      <td>71</td>\n      <td>2019-07-12</td>\n      <td>507</td>\n      <td>NaN</td>\n      <td>0.0</td>\n      <td>stock</td>\n      <td>Rajasthan</td>\n    </tr>\n    <tr>\n      <th>14</th>\n      <td>103279</td>\n      <td>71</td>\n      <td>2020-10-31</td>\n      <td>30</td>\n      <td>NaN</td>\n      <td>0.0</td>\n      <td>stock</td>\n      <td>Rajasthan</td>\n    </tr>\n    <tr>\n      <th>26</th>\n      <td>103305</td>\n      <td>71</td>\n      <td>2020-05-10</td>\n      <td>204</td>\n      <td>NaN</td>\n      <td>0.0</td>\n      <td>stock</td>\n      <td>Rajasthan</td>\n    </tr>\n    <tr>\n      <th>38</th>\n      <td>103311</td>\n      <td>8</td>\n      <td>2020-03-12</td>\n      <td>263</td>\n      <td>NaN</td>\n      <td>0.0</td>\n      <td>stock</td>\n      <td>Rajasthan</td>\n    </tr>\n    <tr>\n      <th>75</th>\n      <td>103311</td>\n      <td>71</td>\n      <td>2020-10-15</td>\n      <td>46</td>\n      <td>NaN</td>\n      <td>0.0</td>\n      <td>stock</td>\n      <td>Rajasthan</td>\n    </tr>\n  </tbody>\n</table>\n</div>"
     },
     "metadata": {},
     "execution_count": 41
    }
   ],
   "source": [
    "df_stock.head()"
   ]
  },
  {
   "cell_type": "code",
   "execution_count": null,
   "metadata": {},
   "outputs": [],
   "source": []
  }
 ]
}